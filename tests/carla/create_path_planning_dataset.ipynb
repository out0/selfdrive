{
 "cells": [
  {
   "cell_type": "code",
   "execution_count": 11,
   "metadata": {},
   "outputs": [],
   "source": [
    "import sys, os\n",
    "sys.path.append(\"../../\")\n",
    "from carlasim.carla_client import CarlaClient\n",
    "from carlasim.carla_ego_car import CarlaEgoCar\n",
    "from carlasim.sensors.data_sensors import *\n",
    "from scenario_builder import ScenarioBuilder, ScenarioActor\n",
    "from data_logger import DataLogger\n",
    "from vision.occupancy_grid_cuda import OccupancyGrid\n",
    "from model.waypoint import Waypoint\n",
    "import cv2\n",
    "\n",
    "client = CarlaClient(town='Town07')\n",
    "ego = CarlaEgoCar(client)\n",
    "ego.init_fake_bev_seg_camera()\n",
    "ego.set_pose(0, 0, 0, 0)\n",
    "ego.set_brake(1.0)\n",
    "\n",
    "sb = ScenarioBuilder(client)\n",
    "\n",
    "counter = 0\n",
    "\n",
    "def save_planning_data(ego: CarlaEgoCar, counter: int) -> int:\n",
    "    logger = DataLogger(0, ego, f\"imgs/log_{counter + 1}.log\")\n",
    "    bev = ego.get_bev_camera().read()\n",
    "    logger.sample(counter + 1)\n",
    "    bev = OccupancyGrid(bev, 0, 0, Waypoint(0,0), Waypoint(0,0)).get_color_frame()\n",
    "    cv2.imwrite(f\"imgs/bev_{counter + 1}.png\", bev)\n",
    "    logger.destroy()\n",
    "    return counter + 1"
   ]
  },
  {
   "cell_type": "markdown",
   "metadata": {},
   "source": [
    "#### Path planning dataset build:\n",
    "- <b>carla client</b>: client\n",
    "- <b>ego car</b>: ego"
   ]
  },
  {
   "cell_type": "code",
   "execution_count": 12,
   "metadata": {},
   "outputs": [],
   "source": [
    "location = [-70, 0, 0, 0]"
   ]
  },
  {
   "cell_type": "code",
   "execution_count": 13,
   "metadata": {},
   "outputs": [],
   "source": [
    "ego.set_pose(location[0], location[1], location[2], location[3])\n"
   ]
  },
  {
   "cell_type": "code",
   "execution_count": 16,
   "metadata": {},
   "outputs": [
    {
     "ename": "TypeError",
     "evalue": "MapPose.__init__() got an unexpected keyword argument 'heading_angle'",
     "output_type": "error",
     "traceback": [
      "\u001b[0;31m---------------------------------------------------------------------------\u001b[0m",
      "\u001b[0;31mTypeError\u001b[0m                                 Traceback (most recent call last)",
      "Cell \u001b[0;32mIn[16], line 1\u001b[0m\n\u001b[0;32m----> 1\u001b[0m \u001b[43msb\u001b[49m\u001b[38;5;241;43m.\u001b[39;49m\u001b[43mload_scenario\u001b[49m\u001b[43m(\u001b[49m\u001b[38;5;124;43m\"\u001b[39;49m\u001b[38;5;124;43mscenarios/cars_zigzag.sce\u001b[39;49m\u001b[38;5;124;43m\"\u001b[39;49m\u001b[43m)\u001b[49m\n",
      "File \u001b[0;32m/workspaces/selfdrive/tests/carla/scenario_builder.py:316\u001b[0m, in \u001b[0;36mScenarioBuilder.load_scenario\u001b[0;34m(self, log_file, return_ego)\u001b[0m\n\u001b[1;32m    314\u001b[0m     \u001b[38;5;28;01melif\u001b[39;00m actor\u001b[38;5;241m.\u001b[39mtype \u001b[38;5;241m==\u001b[39m ScenarioBuilder\u001b[38;5;241m.\u001b[39mTYPE_GOAL:\n\u001b[1;32m    315\u001b[0m         \u001b[38;5;28mself\u001b[39m\u001b[38;5;241m.\u001b[39m__show_goal(actor)\n\u001b[0;32m--> 316\u001b[0m         path\u001b[38;5;241m.\u001b[39mappend(\u001b[43mMapPose\u001b[49m\u001b[43m(\u001b[49m\n\u001b[1;32m    317\u001b[0m \u001b[43m            \u001b[49m\u001b[43mx\u001b[49m\u001b[43m \u001b[49m\u001b[38;5;241;43m=\u001b[39;49m\u001b[43m \u001b[49m\u001b[43mactor\u001b[49m\u001b[38;5;241;43m.\u001b[39;49m\u001b[43mx\u001b[49m\u001b[43m,\u001b[49m\n\u001b[1;32m    318\u001b[0m \u001b[43m            \u001b[49m\u001b[43my\u001b[49m\u001b[43m \u001b[49m\u001b[38;5;241;43m=\u001b[39;49m\u001b[43m \u001b[49m\u001b[43mactor\u001b[49m\u001b[38;5;241;43m.\u001b[39;49m\u001b[43my\u001b[49m\u001b[43m,\u001b[49m\n\u001b[1;32m    319\u001b[0m \u001b[43m            \u001b[49m\u001b[43mheading_angle\u001b[49m\u001b[43m \u001b[49m\u001b[38;5;241;43m=\u001b[39;49m\u001b[43m \u001b[49m\u001b[43mactor\u001b[49m\u001b[38;5;241;43m.\u001b[39;49m\u001b[43mheading\u001b[49m\u001b[43m,\u001b[49m\n\u001b[1;32m    320\u001b[0m \u001b[43m            \u001b[49m\u001b[43mdesired_speed\u001b[49m\u001b[38;5;241;43m=\u001b[39;49m\u001b[38;5;241;43m10.0\u001b[39;49m\n\u001b[1;32m    321\u001b[0m \u001b[43m        \u001b[49m\u001b[43m)\u001b[49m)\n\u001b[1;32m    323\u001b[0m \u001b[38;5;28;01mreturn\u001b[39;00m path, ego\n",
      "\u001b[0;31mTypeError\u001b[0m: MapPose.__init__() got an unexpected keyword argument 'heading_angle'"
     ]
    }
   ],
   "source": [
    "sb.load_scenario(\"scenarios/cars_zigzag.sce\")\n"
   ]
  },
  {
   "cell_type": "markdown",
   "metadata": {},
   "source": [
    "#### Save current state"
   ]
  },
  {
   "cell_type": "code",
   "execution_count": 15,
   "metadata": {},
   "outputs": [],
   "source": [
    "counter = save_planning_data(ego, counter)"
   ]
  },
  {
   "cell_type": "code",
   "execution_count": null,
   "metadata": {},
   "outputs": [],
   "source": []
  }
 ],
 "metadata": {
  "kernelspec": {
   "display_name": "Python 3",
   "language": "python",
   "name": "python3"
  },
  "language_info": {
   "codemirror_mode": {
    "name": "ipython",
    "version": 3
   },
   "file_extension": ".py",
   "mimetype": "text/x-python",
   "name": "python",
   "nbconvert_exporter": "python",
   "pygments_lexer": "ipython3",
   "version": "3.10.12"
  }
 },
 "nbformat": 4,
 "nbformat_minor": 2
}
