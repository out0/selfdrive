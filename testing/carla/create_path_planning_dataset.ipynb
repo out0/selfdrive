{
 "cells": [
  {
   "cell_type": "code",
   "execution_count": 14,
   "metadata": {},
   "outputs": [],
   "source": [
    "import sys, os\n",
    "sys.path.append(\"../../\")\n",
    "from carlasim.carla_client import CarlaClient\n",
    "from carlasim.carla_ego_car import CarlaEgoCar\n",
    "from carlasim.sensors.data_sensors import *\n",
    "from scenario_builder import ScenarioBuilder, ScenarioActor\n",
    "from data_logger import DataLogger\n",
    "from vision.occupancy_grid_cuda import OccupancyGrid\n",
    "from model.waypoint import Waypoint\n",
    "from model.map_pose import MapPose\n",
    "import cv2, time\n",
    "\n",
    "client = CarlaClient(town='Town07')\n",
    "ego = CarlaEgoCar(client)\n",
    "ego.init_fake_bev_seg_camera()\n",
    "ego.set_pose(0, 0, 0, 0)\n",
    "ego.set_brake(1.0)\n",
    "\n",
    "sb = ScenarioBuilder(client)\n",
    "\n",
    "counter = 0\n",
    "\n",
    "def save_planning_data(ego: CarlaEgoCar, counter: int, goal: MapPose, next_goal: MapPose) -> int:\n",
    "    logger = DataLogger(0, ego, f\"imgs/log_{counter + 1}.log\")\n",
    "    bev = ego.get_bev_camera().read()\n",
    "    logger.sample(counter + 1)\n",
    "    logger.add_goal_data(goal, next_goal)\n",
    "    bev = OccupancyGrid(bev, 0, 0, Waypoint(0,0), Waypoint(0,0)).get_color_frame()\n",
    "    cv2.imwrite(f\"imgs/bev_{counter + 1}.png\", bev)\n",
    "    logger.destroy()\n",
    "    return counter + 1"
   ]
  },
  {
   "cell_type": "markdown",
   "metadata": {},
   "source": [
    "#### Path planning dataset build:\n",
    "- <b>carla client</b>: client\n",
    "- <b>ego car</b>: ego"
   ]
  },
  {
   "cell_type": "code",
   "execution_count": 15,
   "metadata": {},
   "outputs": [],
   "source": [
    "location = [-100, 0, 0, 0]\n",
    "ego.set_pose(location[0], location[1], location[2], location[3])\n"
   ]
  },
  {
   "cell_type": "code",
   "execution_count": 20,
   "metadata": {},
   "outputs": [],
   "source": [
    "#ego.destroy()\n",
    "#time.sleep(1)\n",
    "p, ego = sb.load_scenario(\"scenarios/cars_zigzag.sce\", return_ego=True)\n"
   ]
  },
  {
   "cell_type": "code",
   "execution_count": 27,
   "metadata": {},
   "outputs": [],
   "source": [
    "ego.set_pose(-95, 0, 0, 0)"
   ]
  },
  {
   "cell_type": "markdown",
   "metadata": {},
   "source": [
    "#### Save current state"
   ]
  },
  {
   "cell_type": "code",
   "execution_count": 28,
   "metadata": {},
   "outputs": [],
   "source": [
    "counter = save_planning_data(ego, 1, MapPose(-60, 0, 0, 0), MapPose(-30, 0, 0, 0))"
   ]
  },
  {
   "cell_type": "code",
   "execution_count": null,
   "metadata": {},
   "outputs": [],
   "source": []
  }
 ],
 "metadata": {
  "kernelspec": {
   "display_name": "Python 3",
   "language": "python",
   "name": "python3"
  },
  "language_info": {
   "codemirror_mode": {
    "name": "ipython",
    "version": 3
   },
   "file_extension": ".py",
   "mimetype": "text/x-python",
   "name": "python",
   "nbconvert_exporter": "python",
   "pygments_lexer": "ipython3",
   "version": "3.10.12"
  }
 },
 "nbformat": 4,
 "nbformat_minor": 2
}
