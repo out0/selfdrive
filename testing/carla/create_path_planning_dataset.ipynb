{
 "cells": [
  {
   "cell_type": "code",
   "execution_count": 1,
   "metadata": {},
   "outputs": [],
   "source": [
    "import sys, os\n",
    "sys.path.append(\"../../\")\n",
    "from carlasim.carla_client import CarlaClient\n",
    "from carlasim.carla_ego_car import CarlaEgoCar\n",
    "from carlasim.sensors.data_sensors import *\n",
    "from scenario_builder import ScenarioBuilder, ScenarioActor\n",
    "from data_logger import DataLogger\n",
    "from vision.occupancy_grid_cuda import OccupancyGrid\n",
    "from model.waypoint import Waypoint\n",
    "from model.map_pose import MapPose\n",
    "import cv2\n",
    "\n",
    "client = CarlaClient(town='Town07')\n",
    "ego = CarlaEgoCar(client)\n",
    "ego.init_fake_bev_seg_camera()\n",
    "ego.set_pose(0, 0, 0, 0)\n",
    "ego.set_brake(1.0)\n",
    "\n",
    "sb = ScenarioBuilder(client)\n",
    "\n",
    "counter = 0\n",
    "\n",
    "def save_planning_data(ego: CarlaEgoCar, counter: int, goal: MapPose, next_goal: MapPose) -> int:\n",
    "    logger = DataLogger(0, ego, f\"imgs/log_{counter + 1}.log\")\n",
    "    bev = ego.get_bev_camera().read()\n",
    "    logger.sample(counter + 1)\n",
    "    logger.add_goal_data(goal, next_goal)\n",
    "    bev = OccupancyGrid(bev, 0, 0, Waypoint(0,0), Waypoint(0,0)).get_color_frame()\n",
    "    cv2.imwrite(f\"imgs/bev_{counter + 1}.png\", bev)\n",
    "    logger.destroy()\n",
    "    return counter + 1"
   ]
  },
  {
   "cell_type": "markdown",
   "metadata": {},
   "source": [
    "#### Path planning dataset build:\n",
    "- <b>carla client</b>: client\n",
    "- <b>ego car</b>: ego"
   ]
  },
  {
   "cell_type": "code",
   "execution_count": 2,
   "metadata": {},
   "outputs": [],
   "source": [
    "location = [-70, 0, 0, 0]"
   ]
  },
  {
   "cell_type": "code",
   "execution_count": 3,
   "metadata": {},
   "outputs": [],
   "source": [
    "ego.set_pose(location[0], location[1], location[2], location[3])\n"
   ]
  },
  {
   "cell_type": "code",
   "execution_count": 4,
   "metadata": {},
   "outputs": [
    {
     "data": {
      "text/plain": [
       "([<model.map_pose.MapPose at 0x77c05c29a800>,\n",
       "  <model.map_pose.MapPose at 0x77c05c25ea40>],\n",
       " None)"
      ]
     },
     "execution_count": 4,
     "metadata": {},
     "output_type": "execute_result"
    }
   ],
   "source": [
    "sb.load_scenario(\"scenarios/cars_zigzag.sce\")\n"
   ]
  },
  {
   "cell_type": "markdown",
   "metadata": {},
   "source": [
    "#### Save current state"
   ]
  },
  {
   "cell_type": "code",
   "execution_count": 5,
   "metadata": {},
   "outputs": [],
   "source": [
    "counter = save_planning_data(ego, counter, MapPose(-30, 0, 0, 0), MapPose(-10, 0, 0, 0))"
   ]
  },
  {
   "cell_type": "code",
   "execution_count": null,
   "metadata": {},
   "outputs": [],
   "source": []
  }
 ],
 "metadata": {
  "kernelspec": {
   "display_name": "Python 3",
   "language": "python",
   "name": "python3"
  },
  "language_info": {
   "codemirror_mode": {
    "name": "ipython",
    "version": 3
   },
   "file_extension": ".py",
   "mimetype": "text/x-python",
   "name": "python",
   "nbconvert_exporter": "python",
   "pygments_lexer": "ipython3",
   "version": "3.10.12"
  }
 },
 "nbformat": 4,
 "nbformat_minor": 2
}
