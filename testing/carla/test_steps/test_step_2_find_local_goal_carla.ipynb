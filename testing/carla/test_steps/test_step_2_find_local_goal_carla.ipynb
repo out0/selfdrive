{
 "cells": [
  {
   "cell_type": "code",
   "execution_count": 1,
   "metadata": {},
   "outputs": [],
   "source": [
    "import sys\n",
    "sys.path.append(\"../../../\")\n",
    "from typing import List\n",
    "from model.map_pose import MapPose\n",
    "from model.waypoint import Waypoint\n",
    "from model.world_pose import WorldPose\n",
    "from planner.local_planner.local_planner import LocalPlannerType, PlanningResult\n",
    "from data.coordinate_converter import CoordinateConverter\n",
    "from utils.logging import Telemetry\n",
    "from planner.goal_point_discover import GoalPointDiscover, GoalPointDiscoverResult\n",
    "from vision.occupancy_grid_cuda import OccupancyGrid\n",
    "from model.physical_parameters import PhysicalParameters\n",
    "import sys, os\n",
    "sys.path.append(\"../../\")\n",
    "from carlasim.carla_client import CarlaClient\n",
    "#from slam.slam import SLAM\n",
    "from model.map_pose import MapPose\n",
    "from model.world_pose import WorldPose\n",
    "from carlasim.debug.carla_debug import CarlaDebug\n",
    "from carlasim.carla_ego_car import CarlaEgoCar\n",
    "import time\n",
    "\n",
    "COORD_ORIGIN = WorldPose(lat=-4.303359446566901e-09, \n",
    "                      lon=-1.5848012769283334e-08,\n",
    "                      alt=1.0149892568588257,\n",
    "                      heading=0)\n",
    "\n",
    "PLAN_TIMEOUT = -1\n",
    "PLANNER_TYPE = LocalPlannerType.Overtaker\n",
    "\n",
    "\n",
    "def show_goal_point_discover_plan (seq: int) -> tuple[GoalPointDiscoverResult, PlanningResult]:\n",
    "    coord = CoordinateConverter(COORD_ORIGIN)\n",
    "    local_goal_discover = GoalPointDiscover(coord)\n",
    "\n",
    "    result = Telemetry.read_planning_result(seq)\n",
    "    if result is None:\n",
    "        return False\n",
    "    \n",
    "    bev = Telemetry.read_planning_bev(seq)\n",
    "\n",
    "    og = OccupancyGrid(\n",
    "                frame=bev,\n",
    "                minimal_distance_x=PhysicalParameters.MIN_DISTANCE_WIDTH_PX,\n",
    "                minimal_distance_z=PhysicalParameters.MIN_DISTANCE_HEIGHT_PX,\n",
    "                lower_bound=PhysicalParameters.EGO_LOWER_BOUND,\n",
    "                upper_bound=PhysicalParameters.EGO_UPPER_BOUND\n",
    "            )\n",
    "\n",
    "    res = local_goal_discover.find_goal(\n",
    "        og=og,\n",
    "        current_pose=result.ego_location,\n",
    "        goal_pose=result.map_goal,\n",
    "        next_goal_pose=result.map_next_goal\n",
    "    )\n",
    "    \n",
    "   \n",
    "    if res is None:\n",
    "        print(f\"no goal was found for seq: {seq}\")\n",
    "        return\n",
    "    \n",
    "    projected_goal = coord.clip(coord.convert_map_to_waypoint(result.ego_location, result.map_goal))\n",
    "    \n",
    "    print(f\"[{seq}] projected local goal: ({projected_goal.x}, {projected_goal.z})\")\n",
    "    if res.goal is None:\n",
    "        print(f\"[{seq}] chosen local goal: NONE\")\n",
    "        return\n",
    "    \n",
    "    print(f\"[{seq}] chosen local goal: ({res.goal.x}, {res.goal.z})\")\n",
    "    \n",
    "    h = Waypoint.compute_heading(res.start, res.goal)\n",
    "    print(f\"\\tdirect heading:{h:.4} degrees\")\n",
    "    print(f\"\\tchosen heading: {res.goal.heading:} degrees\")\n",
    "    \n",
    "    return res, result\n",
    "\n",
    "client = CarlaClient(town='Town07')\n",
    "debug = CarlaDebug(client)\n",
    "ego = CarlaEgoCar(client)"
   ]
  },
  {
   "cell_type": "code",
   "execution_count": 2,
   "metadata": {},
   "outputs": [
    {
     "name": "stdout",
     "output_type": "stream",
     "text": [
      "[15] projected local goal: (132, 53)\n",
      "[15] chosen local goal: (125, 53)\n",
      "\tdirect heading:-3.18 degrees\n",
      "\tchosen heading: -22.988716802080646 degrees\n"
     ]
    }
   ],
   "source": [
    "goal_result, recorded_result = show_goal_point_discover_plan(15)\n"
   ]
  },
  {
   "cell_type": "code",
   "execution_count": 3,
   "metadata": {},
   "outputs": [],
   "source": [
    "pose = recorded_result.ego_location.clone()\n",
    "ego.set_pose(pose.x, pose.y, 2, pose.heading)\n"
   ]
  },
  {
   "cell_type": "code",
   "execution_count": 4,
   "metadata": {},
   "outputs": [],
   "source": [
    "debug.show_map_pose(recorded_result.ego_location, mark='1', lifetime=60)\n",
    "debug.show_map_pose(recorded_result.map_goal, mark='2', lifetime=60)\n",
    "debug.show_map_pose(recorded_result.map_next_goal, mark='3', lifetime=60)"
   ]
  },
  {
   "cell_type": "code",
   "execution_count": 5,
   "metadata": {},
   "outputs": [
    {
     "name": "stdout",
     "output_type": "stream",
     "text": [
      "pose heading = -23.15457982428886\n"
     ]
    }
   ],
   "source": [
    "coord = CoordinateConverter(COORD_ORIGIN)\n",
    "m = coord.convert_waypoint_to_map_pose(\n",
    "    recorded_result.ego_location,\n",
    "    goal_result.goal\n",
    ")\n",
    "debug.show_map_pose(m, mark='4', lifetime=30)\n",
    "\n",
    "m.heading = pose.heading + goal_result.goal.heading\n",
    "print(f\"pose heading = {m.heading }\")\n",
    "debug.show_map_pose(m, True, lifetime=30)\n"
   ]
  }
 ],
 "metadata": {
  "kernelspec": {
   "display_name": "venv",
   "language": "python",
   "name": "python3"
  },
  "language_info": {
   "codemirror_mode": {
    "name": "ipython",
    "version": 3
   },
   "file_extension": ".py",
   "mimetype": "text/x-python",
   "name": "python",
   "nbconvert_exporter": "python",
   "pygments_lexer": "ipython3",
   "version": "3.10.12"
  }
 },
 "nbformat": 4,
 "nbformat_minor": 2
}
