{
 "cells": [
  {
   "cell_type": "code",
   "execution_count": 18,
   "metadata": {},
   "outputs": [],
   "source": [
    "import sys\n",
    "sys.path.append(\"../../../\")\n",
    "from vision.occupancy_grid_cuda import CudaFrame\n",
    "from model.physical_parameters import PhysicalParameters\n",
    "from model.waypoint import Waypoint\n",
    "import cv2\n",
    "import math\n",
    "import numpy as np\n",
    "import matplotlib.pyplot as plt\n",
    "\n",
    "def convert(path: str) -> list[Waypoint]:\n",
    "    waypoints = []\n",
    "    for line in path.strip().split('\\n'):\n",
    "        # Removing parentheses and splitting by comma\n",
    "        x, y, h = map(int, line.strip('()').split(','))\n",
    "        waypoints.append(Waypoint(x, y, h))\n",
    "    return waypoints\n",
    "\n",
    "def plot_vect(x, y, angle, length = 5) -> None:\n",
    "    #angle = math.radians(angle)\n",
    "    a = angle - math.pi/2\n",
    "    end_x = x + length * np.cos(a)\n",
    "    end_y = y + length * np.sin(a)\n",
    "    plt.quiver(x, y, end_x - x, end_y - y, angles='xy', scale_units='xy', scale=1, color='r', label=f'Heading: {math.degrees(angle)}°')\n",
    "    \n",
    "\n",
    "def get_minmax(points: list[Waypoint]) -> tuple[int, int]:\n",
    "    max_x = 0\n",
    "    max_z = 0\n",
    "    min_x = 256\n",
    "    min_z = 256\n",
    "    for p in points:\n",
    "        max_x = max(max_x, p.x)\n",
    "        max_z = max(max_z, p.z)\n",
    "        min_x = min(min_x, p.x)\n",
    "        min_z = min(min_z, p.z)        \n",
    "    return max_x, max_z, min_x, min_z\n",
    "\n",
    "def plot_points(points: list[Waypoint], show_heading_to: int = -1, show_heading_to_non_fesibles: list[bool] = None) -> Waypoint:\n",
    "    \n",
    "    max_x, max_z, min_x, min_z = get_minmax(points)\n",
    "    \n",
    "    x_coords = [p.x for p in points]\n",
    "    y_coords = [p.z for p in points]\n",
    "    \n",
    "    # Create a scatter plot\n",
    "    \n",
    "    plt.xlim(min_x-10, max_x + 10)  # Set x-axis limits\n",
    "    plt.ylim(min_z-10, max_z + 10)  # Set y-axis limits\n",
    "    #plt.figure(figsize=(100, 60)) \n",
    "    plt.scatter(x_coords, y_coords, color='blue', label='Points')\n",
    "    \n",
    "    # Add labels and title\n",
    "    plt.xlabel('X')\n",
    "    plt.ylabel('Z')\n",
    "    plt.title('Planned path')\n",
    "    \n",
    "    \n",
    "    plt.legend()\n",
    "\n",
    "    if show_heading_to >= 0:\n",
    "        x_h = points[show_heading_to].x\n",
    "        y_h = points[show_heading_to].z\n",
    "        h = points[show_heading_to].heading\n",
    "        plt.scatter(x_h, y_h, color='red', label='Heading')\n",
    "        plot_vect(x_h, y_h, h, 10)\n",
    "        print(points[show_heading_to])\n",
    "    else:\n",
    "        if show_heading_to_non_fesibles is None:\n",
    "            for p in points:\n",
    "                x_h = p.x\n",
    "                y_h = p.z\n",
    "                h = p.heading\n",
    "                #plt.scatter(x_h, y_h, color='red', label='Heading')\n",
    "                plot_vect( x_h, y_h, h, 10)\n",
    "    \n",
    "        else:\n",
    "            i = 0\n",
    "            for p in points:\n",
    "                x_h = p.x\n",
    "                y_h = p.z\n",
    "                h = p.heading\n",
    "                if show_heading_to_non_fesibles[i] == 0:\n",
    "                    plot_vect( x_h, y_h, h, 10)\n",
    "                i += 1\n",
    "            \n",
    "            # i = len(show_heading_to_non_fesibles)-1\n",
    "            # while i >= 0:\n",
    "            for i in range(len(show_heading_to_non_fesibles)):\n",
    "                if show_heading_to_non_fesibles[i] == 0:\n",
    "                    p = points[i]\n",
    "                    print (f\"first non-feasible: {p.x}, {p.z}  heading: {p.heading}\")\n",
    "                    return p\n",
    "    \n",
    "    \n",
    "    # Show plot\n",
    "    plt.grid(True)\n",
    "    plt.show()\n",
    "    return None\n",
    "    \n",
    "SAFE_W = math.floor(PhysicalParameters.MIN_DISTANCE_WIDTH_PX / 2)\n",
    "SAFE_H = math.floor(PhysicalParameters.MIN_DISTANCE_HEIGHT_PX / 2)\n",
    "\n",
    "def draw_safe_square(frame: np.ndarray, pos: tuple[int, int], angle: float):\n",
    "    r = math.radians(angle)\n",
    "    c = math.cos(r)\n",
    "    s = math.sin(r)\n",
    "    for z in range(-SAFE_H, SAFE_H + 1):\n",
    "        for x in range(-SAFE_W, SAFE_W + 1):\n",
    "            (xo, zo) = pos\n",
    "            xl = round(x * c - z * s) + xo\n",
    "            zl = round(x * s + z * c) + zo\n",
    "            if xl < 0 or xl >= frame.shape[1]: continue\n",
    "            if zl < 0 or zl >= frame.shape[0]: continue\n",
    "            frame[zl, xl, :] = [255, 255, 0]\n",
    "    frame[pos[1], pos[0], :] = [0, 0, 255]\n",
    "    "
   ]
  },
  {
   "cell_type": "code",
   "execution_count": 19,
   "metadata": {},
   "outputs": [],
   "source": [
    "file = \"planning_data/bev_1.png\"\n",
    "f = cv2.imread(file)\n",
    "\n",
    "\n",
    "frame = CudaFrame(\n",
    "    frame=f,\n",
    "    min_dist_x=PhysicalParameters.MIN_DISTANCE_WIDTH_PX,\n",
    "    min_dist_z=PhysicalParameters.MIN_DISTANCE_HEIGHT_PX,\n",
    "    lower_bound=PhysicalParameters.EGO_LOWER_BOUND,\n",
    "    upper_bound=PhysicalParameters.EGO_UPPER_BOUND\n",
    ")"
   ]
  },
  {
   "cell_type": "code",
   "execution_count": 20,
   "metadata": {},
   "outputs": [],
   "source": [
    "path = \"\"\"(128, 106, 0)\n",
    "(127, 105, 0)\n",
    "(127, 104, 0)\n",
    "(127, 103, 0)\n",
    "(127, 102, 0)\n",
    "(127, 101, 0)\n",
    "(127, 100, 0)\n",
    "(127, 99, 0)\n",
    "(127, 98, 0)\n",
    "(127, 97, 0)\n",
    "(126, 96, 0)\n",
    "(126, 95, 0)\n",
    "(126, 94, 0)\n",
    "(126, 93, 0)\n",
    "(126, 92, 0)\n",
    "(126, 91, 0)\n",
    "(126, 90, 0)\n",
    "(126, 89, 0)\n",
    "(126, 88, 0)\n",
    "(125, 87, 0)\n",
    "(125, 86, 0)\n",
    "(125, 85, 0)\n",
    "(125, 84, 0)\n",
    "(125, 83, 0)\n",
    "(125, 82, 0)\n",
    "(125, 81, 0)\n",
    "(125, 80, 0)\n",
    "(125, 79, 0)\n",
    "(124, 78, 0)\n",
    "(124, 77, 0)\n",
    "(124, 76, 0)\n",
    "(124, 75, 0)\n",
    "(124, 74, 0)\n",
    "(124, 73, 0)\n",
    "(124, 72, 0)\n",
    "(124, 71, 0)\n",
    "(123, 70, 0)\n",
    "(123, 69, 0)\n",
    "(123, 68, 0)\n",
    "(123, 67, 0)\n",
    "(123, 66, 0)\n",
    "(123, 65, 0)\n",
    "(123, 64, 0)\n",
    "(123, 63, 0)\n",
    "(123, 62, 0)\n",
    "(123, 61, 0)\n",
    "(122, 61, 0)\n",
    "(122, 60, 0)\n",
    "(122, 59, 0)\n",
    "(122, 58, 0)\n",
    "(122, 57, 0)\n",
    "(122, 56, 0)\n",
    "(122, 55, 0)\n",
    "(122, 54, 0)\n",
    "(122, 53, 0)\n",
    "(122, 52, 0)\n",
    "(121, 51, 0)\n",
    "(121, 50, 0)\n",
    "(121, 49, 0)\n",
    "(121, 48, 0)\n",
    "(121, 47, 0)\n",
    "(121, 46, 0)\n",
    "(121, 45, 0)\n",
    "(121, 44, 0)\n",
    "(120, 43, 0)\n",
    "(120, 42, 0)\n",
    "(120, 41, 0)\n",
    "(120, 40, 0)\n",
    "(120, 39, 0)\n",
    "(120, 38, 0)\n",
    "(120, 37, 0)\n",
    "(120, 36, 0)\n",
    "(120, 35, 0)\n",
    "(119, 34, 0)\n",
    "(119, 33, 0)\n",
    "(119, 32, 0)\n",
    "(119, 31, 0)\n",
    "(119, 30, 0)\n",
    "(119, 29, 0)\n",
    "(119, 28, 0)\n",
    "(119, 27, 0)\n",
    "(119, 26, 0)\n",
    "(119, 25, 0)\n",
    "(118, 25, 0)\n",
    "(118, 24, 0)\n",
    "(118, 23, 0)\n",
    "(118, 22, 0)\n",
    "(118, 21, 0)\n",
    "(118, 20, 0)\n",
    "(118, 19, 0)\n",
    "(118, 18, 0)\n",
    "(118, 17, 0)\n",
    "(117, 16, 0)\n",
    "(117, 15, 0)\n",
    "(117, 14, 0)\n",
    "(117, 13, 0)\n",
    "(117, 12, 0)\n",
    "(117, 11, 0)\n",
    "(117, 10, 0)\n",
    "(117, 9, 0)\n",
    "(117, 8, 0)\n",
    "(116, 7, 0)\n",
    "(116, 6, 0)\n",
    "(116, 5, 0)\n",
    "(116, 4, 0)\n",
    "(116, 3, 0)\n",
    "(116, 2, 0)\n",
    "(116, 1, 0)\n",
    "(116, 0, 0)\n",
    "\"\"\"\n"
   ]
  },
  {
   "cell_type": "code",
   "execution_count": 21,
   "metadata": {},
   "outputs": [
    {
     "name": "stdout",
     "output_type": "stream",
     "text": [
      "first non-feasible: 121, 50  heading: 0.0\n"
     ]
    },
    {
     "data": {
      "image/png": "[encoded data removed]",
      "text/plain": [
       "<Figure size 640x480 with 1 Axes>"
      ]
     },
     "metadata": {},
     "output_type": "display_data"
    }
   ],
   "source": [
    "path = convert(path)\n",
    "res = frame.compute_feasible_path(path, save_heading=True)\n",
    "first_non_feasible = plot_points(path, -1, show_heading_to_non_fesibles=res)\n"
   ]
  },
  {
   "cell_type": "code",
   "execution_count": 22,
   "metadata": {},
   "outputs": [
    {
     "name": "stdout",
     "output_type": "stream",
     "text": [
      "[1 1 1 1 1 1 1 1 1 1 1 1 1 1 1 1 1 1 1 1 1 1 1 1 1 1 1 1 1 1 1 1 1 1 1 1 1\n",
      " 1 1 1 1 1 1 1 1 1 1 1 1 1 1 1 1 1 1 1 1 0 0 0 0 0 1 1 0 0 0 0 0 0 0 0 0 0\n",
      " 0 0 0 0 0 0 0 0 0 0 0 0 0 0 0 0 0 0 0 0 0 0 0 0 0 0 0 1 1 1 1 1 1 1 1]\n"
     ]
    }
   ],
   "source": [
    "print(res)"
   ]
  },
  {
   "cell_type": "code",
   "execution_count": 23,
   "metadata": {},
   "outputs": [
    {
     "name": "stdout",
     "output_type": "stream",
     "text": [
      "heading = 0.0\n"
     ]
    },
    {
     "data": {
      "text/plain": [
       "<matplotlib.image.AxesImage at 0x7c3e9c11cc70>"
      ]
     },
     "execution_count": 23,
     "metadata": {},
     "output_type": "execute_result"
    },
    {
     "data": {
      "image/png": "[encoded data removed]",
      "text/plain": [
       "<Figure size 640x480 with 1 Axes>"
      ]
     },
     "metadata": {},
     "output_type": "display_data"
    }
   ],
   "source": [
    "\n",
    "f = frame.get_color_frame()\n",
    "print (f\"heading = {math.degrees(first_non_feasible.heading)}\")\n",
    "draw_safe_square(f, (first_non_feasible.x, first_non_feasible.z), math.degrees(first_non_feasible.heading))\n",
    "plt.imshow(f, interpolation='nearest')"
   ]
  },
  {
   "cell_type": "code",
   "execution_count": 24,
   "metadata": {},
   "outputs": [
    {
     "name": "stdout",
     "output_type": "stream",
     "text": [
      "heading = 0.0\n"
     ]
    },
    {
     "data": {
      "text/plain": [
       "<matplotlib.image.AxesImage at 0x7c3e9c186020>"
      ]
     },
     "execution_count": 24,
     "metadata": {},
     "output_type": "execute_result"
    },
    {
     "data": {
      "image/png": "[encoded data removed]",
      "text/plain": [
       "<Figure size 640x480 with 1 Axes>"
      ]
     },
     "metadata": {},
     "output_type": "display_data"
    }
   ],
   "source": [
    "f = frame.get_color_frame()\n",
    "print (f\"heading = {math.degrees(first_non_feasible.heading)}\")\n",
    "draw_safe_square(f, (first_non_feasible.x, first_non_feasible.z), -0)\n",
    "plt.imshow(f, interpolation='nearest')"
   ]
  },
  {
   "cell_type": "code",
   "execution_count": 25,
   "metadata": {},
   "outputs": [
    {
     "data": {
      "text/plain": [
       "1.0"
      ]
     },
     "execution_count": 25,
     "metadata": {},
     "output_type": "execute_result"
    }
   ],
   "source": [
    "frame.get_frame()[first_non_feasible.z, first_non_feasible.x, 0]\n",
    "\n",
    "#cv2.imwrite(\"/home/cristiano/Documents/outp.png\", f)\n"
   ]
  }
 ],
 "metadata": {
  "kernelspec": {
   "display_name": "venv",
   "language": "python",
   "name": "python3"
  },
  "language_info": {
   "codemirror_mode": {
    "name": "ipython",
    "version": 3
   },
   "file_extension": ".py",
   "mimetype": "text/x-python",
   "name": "python",
   "nbconvert_exporter": "python",
   "pygments_lexer": "ipython3",
   "version": "3.10.12"
  }
 },
 "nbformat": 4,
 "nbformat_minor": 2
}
