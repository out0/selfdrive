{
 "cells": [
  {
   "cell_type": "code",
   "execution_count": 1,
   "metadata": {},
   "outputs": [],
   "source": [
    "import sys, os\n",
    "sys.path.append(\"../../\")\n",
    "from carlasim.carla_client import CarlaClient\n",
    "from carlasim.carla_ego_car import CarlaEgoCar\n",
    "from carlasim.sensors.data_sensors import *\n",
    "from scenario_builder import ScenarioBuilder\n",
    "from planner.selfdrive_controller import SelfDriveController, PlanningDataBuilder, PlanningData, SelfDriveControllerResponse, SelfDriveControllerResponseType\n",
    "#from slam.slam import SLAM\n",
    "from carlasim.carla_slam import CarlaSLAM\n",
    "from carlasim.expectator_cam_follower import ExpectatorCameraAutoFollow\n",
    "from model.map_pose import MapPose\n",
    "from model.world_pose import WorldPose\n",
    "from planner.local_planner.local_planner import LocalPlannerType\n",
    "from model.discrete_component import DiscreteComponent\n",
    "from utils.telemetry import Telemetry\n",
    "\n",
    "TEST_SPEED = 1.0\n",
    "\n",
    "client = CarlaClient(town='Town07_Opt')\n",
    "\n",
    "\n",
    "class AutoCameraSet (DiscreteComponent):\n",
    "    _spectator: any\n",
    "    _target: any\n",
    "    _dist_m: float\n",
    "    _client: CarlaClient\n",
    "    _slam: CarlaSLAM\n",
    "    \n",
    "    def __init__(self, period_ms: int, client: CarlaClient) -> None:\n",
    "        super().__init__(period_ms)\n",
    "        self._client = client\n",
    "        world = client.get_world()\n",
    "        self._spectator = world.get_spectator()\n",
    "        self._slam = None\n",
    "        pass\n",
    "\n",
    "    #\n",
    "\n",
    "    def set_camera_addr(self, addr: tuple) -> None:\n",
    "        x, y, z, pitch, yaw, roll = addr\n",
    "        p = carla.Transform(carla.Location(x=x,y=y,z=z ),\n",
    "                carla.Rotation( yaw = yaw, pitch = pitch, roll = roll))\n",
    "        self._spectator.set_transform(p) \n",
    "    \n",
    "    def __get_pos(self, i: int) -> tuple:\n",
    "        match i:\n",
    "            case 1:\n",
    "               return (-75.676786422729492, 12.838396072387695, 31.128173828125, -116.02267456054688, 90, 180)\n",
    "            case 2:\n",
    "                return (-35.676786422729492, 12.838396072387695, 31.128173828125, -116.02267456054688, 90, 180)\n",
    "            case 3:\n",
    "                return (0.676786422729492, 12.838396072387695, 31.128173828125, -116.02267456054688, 90, 180)\n",
    "            case 4:\n",
    "                return (20.676786422729492, 12.838396072387695, 31.128173828125, -116.02267456054688, 90, 180)\n",
    "        return None\n",
    "    \n",
    "    def pos1(self):\n",
    "        addr = self.__get_pos(1)\n",
    "        self.set_camera_addr(addr)\n",
    "\n",
    "    def pos2(self):\n",
    "        addr = self.__get_pos(2)\n",
    "        self.set_camera_addr(addr)\n",
    "\n",
    "    def pos3(self):\n",
    "        addr = self.__get_pos(3)\n",
    "        self.set_camera_addr( addr)\n",
    "\n",
    "    def pos3(self):\n",
    "        addr = self.__get_pos(4)\n",
    "        self.set_camera_addr( addr)\n",
    "        \n",
    "    def auto_set(self, slam: CarlaSLAM):\n",
    "        self.destroy()\n",
    "        self._slam = slam\n",
    "        self.start()\n",
    "    \n",
    "    def _loop(self, dt: float) -> None:\n",
    "        if self._slam is None:\n",
    "            return\n",
    "        \n",
    "        best = -1\n",
    "        best_dist = 999999999\n",
    "        for p in range(1, 5):\n",
    "            l = self.__get_pos(p)\n",
    "            location = self._slam.estimate_ego_pose()\n",
    "            dist = MapPose.distance_between(MapPose(l[0], l[1], l[2], heading=0), location)\n",
    "            if dist < best_dist:\n",
    "                best_dist = dist\n",
    "                best = p\n",
    "        if best < 0:\n",
    "            best = 1\n",
    "\n",
    "        addr = self.__get_pos(best)\n",
    "        self.set_camera_addr(addr)\n",
    "\n",
    "\n",
    "def show_path(client: CarlaClient, path: list[MapPose]):\n",
    "        world = client.get_world()\n",
    "        for w in path:\n",
    "            world.debug.draw_string(carla.Location(w.x, w.y, 2), 'O', draw_shadow=False,\n",
    "                                        color=carla.Color(r=255, g=0, b=0), life_time=30.0,\n",
    "                                        persistent_lines=True)\n",
    "\n",
    "def get_scenario_dir(scenario: int, planner: LocalPlannerType) -> str:\n",
    "    planner_dir  = \"\"\n",
    "    match planner:\n",
    "        case LocalPlannerType.HierarchicalGroup:\n",
    "            planner_dir = \"h-ensemble\"\n",
    "        case LocalPlannerType.HybridAStar:\n",
    "            planner_dir = \"hybrid\"\n",
    "        case LocalPlannerType.Interpolator:\n",
    "            planner_dir = \"interpolator\"\n",
    "        case LocalPlannerType.Overtaker:\n",
    "            planner_dir =  \"overtaker\"\n",
    "        case LocalPlannerType.Ensemble:\n",
    "            planner_dir = \"p-ensemble\"\n",
    "        case LocalPlannerType.RRTStar:\n",
    "            planner_dir = \"rrt\"\n",
    "        \n",
    "    return f\"results/scen{scenario}/{planner_dir}\"\n",
    "        \n",
    "        \n",
    "        \n",
    "\n",
    "  \n",
    "\n",
    "\n"
   ]
  },
  {
   "cell_type": "code",
   "execution_count": 2,
   "metadata": {},
   "outputs": [],
   "source": [
    "def replay_scenario (client: CarlaClient, scenario: int, planner: LocalPlannerType, heading: float):\n",
    "    print(f\"Replaying Scenario {scenario} planner {planner}\")\n",
    "    \n",
    "    sb = ScenarioBuilder(client)\n",
    "    path, ego = sb.load_scenario(f'scenarios/scenario{scenario}.sce', return_ego=True)\n",
    "    ego.init_fake_bev_seg_camera()\n",
    "    ego.set_brake(1.0)\n",
    "    \n",
    "    sdir = get_scenario_dir(scenario, planner)\n",
    "\n",
    "    # Get a list of all files in the folder\n",
    "    file_list = [f for f in os.listdir(sdir) if f.startswith('planning_result_') and f.endswith('.json')]\n",
    "    # Sort the files by the number after 'planning_result_'\n",
    "    file_list_sorted = sorted(file_list, key=lambda x: int(x.split('_')[-1].split('.')[0]))\n",
    "\n",
    "    slam = CarlaSLAM(ego)\n",
    "         \n",
    "    slam.manual_calibrate(\n",
    "            WorldPose(lat=-4.303359446566901e-09, \n",
    "                      lon=-1.5848012769283334e-08,\n",
    "                      alt=1.0149892568588257,\n",
    "                      heading=0))\n",
    "    \n",
    "    coord = slam.get_coordinate_converter()\n",
    "    \n",
    "    last = None\n",
    "    for f in file_list_sorted:\n",
    "        res = Telemetry.read_planning_result_from_file(f\"{sdir}/{f}\")\n",
    "        rpath = coord.convert_waypoint_path_to_map_pose(res.ego_location, res.path)\n",
    "        if len(rpath) > 0:\n",
    "            last = rpath[-1]\n",
    "        show_path(client, rpath)\n",
    "\n",
    "    ego.set_pose(last.x, last.y, 2, last.heading + heading)\n",
    "    \n",
    "    return sb, ego\n",
    "            \n",
    "\n",
    "ego = None\n",
    "sb = None\n"
   ]
  },
  {
   "cell_type": "code",
   "execution_count": 3,
   "metadata": {},
   "outputs": [
    {
     "name": "stdout",
     "output_type": "stream",
     "text": [
      "Replaying Scenario 3 planner LocalPlannerType.HierarchicalGroup\n"
     ]
    }
   ],
   "source": [
    "if ego == None and sb == None:\n",
    "    sb, ego = replay_scenario(client=client, scenario=3, planner=LocalPlannerType.HierarchicalGroup, heading=0)\n",
    "else:\n",
    "    print(\"You need to kill the scenario first!\")"
   ]
  },
  {
   "cell_type": "code",
   "execution_count": 5,
   "metadata": {},
   "outputs": [
    {
     "name": "stdout",
     "output_type": "stream",
     "text": [
      "Replaying Scenario 3 planner LocalPlannerType.HybridAStar\n"
     ]
    }
   ],
   "source": [
    "if ego == None and sb == None:\n",
    "    sb, ego = replay_scenario(client=client, scenario=3, planner=LocalPlannerType.HybridAStar, heading=0)\n",
    "else:\n",
    "    print(\"You need to kill the scenario first!\")"
   ]
  },
  {
   "cell_type": "code",
   "execution_count": null,
   "metadata": {},
   "outputs": [
    {
     "name": "stdout",
     "output_type": "stream",
     "text": [
      "Replaying Scenario 3 planner LocalPlannerType.RRTStar\n"
     ]
    },
    {
     "ename": "",
     "evalue": "",
     "output_type": "error",
     "traceback": [
      "\u001b[1;31mThe Kernel crashed while executing code in the current cell or a previous cell. \n",
      "\u001b[1;31mPlease review the code in the cell(s) to identify a possible cause of the failure. \n",
      "\u001b[1;31mClick <a href='https://aka.ms/vscodeJupyterKernelCrash'>here</a> for more info. \n",
      "\u001b[1;31mView Jupyter <a href='command:jupyter.viewOutput'>log</a> for further details."
     ]
    }
   ],
   "source": [
    "if ego == None and sb == None:\n",
    "    sb, ego = replay_scenario(client=client, scenario=3, planner=LocalPlannerType.RRTStar, heading=0)\n",
    "else:\n",
    "    print(\"You need to kill the scenario first!\")"
   ]
  },
  {
   "cell_type": "code",
   "execution_count": 6,
   "metadata": {},
   "outputs": [],
   "source": [
    "ego.destroy()\n",
    "sb.clear()\n",
    "ego = None\n",
    "sb = None"
   ]
  }
 ],
 "metadata": {
  "kernelspec": {
   "display_name": "venv",
   "language": "python",
   "name": "python3"
  },
  "language_info": {
   "codemirror_mode": {
    "name": "ipython",
    "version": 3
   },
   "file_extension": ".py",
   "mimetype": "text/x-python",
   "name": "python",
   "nbconvert_exporter": "python",
   "pygments_lexer": "ipython3",
   "version": "3.10.12"
  }
 },
 "nbformat": 4,
 "nbformat_minor": 2
}
