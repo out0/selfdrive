{
 "cells": [
  {
   "cell_type": "code",
   "execution_count": 151,
   "metadata": {},
   "outputs": [],
   "source": [
    "import sys, os\n",
    "sys.path.append(\"../../\")\n",
    "from carlasim.carla_client import CarlaClient\n",
    "from carlasim.carla_ego_car import CarlaEgoCar\n",
    "from carlasim.sensors.data_sensors import *\n",
    "\n",
    "client = CarlaClient(town='Town07_Opt')\n",
    "ego = CarlaEgoCar(client)\n",
    "ego.init_bev_camera()\n",
    "ego.set_pose(0, 0, 0, 0)\n",
    "ego.set_brake(1.0)"
   ]
  },
  {
   "cell_type": "markdown",
   "metadata": {},
   "source": [
    "#### Generic testing with the map:\n",
    "- <b>carla client</b>: client\n",
    "- <b>ego car</b>: ego"
   ]
  },
  {
   "cell_type": "code",
   "execution_count": 152,
   "metadata": {},
   "outputs": [],
   "source": [
    "ego.set_pose(52.8397216796875, -165.0282440185547, 5, -82)"
   ]
  },
  {
   "cell_type": "code",
   "execution_count": null,
   "metadata": {},
   "outputs": [
    {
     "ename": "",
     "evalue": "",
     "output_type": "error",
     "traceback": [
      "\u001b[1;31mThe Kernel crashed while executing code in the current cell or a previous cell. \n",
      "\u001b[1;31mPlease review the code in the cell(s) to identify a possible cause of the failure. \n",
      "\u001b[1;31mClick <a href='https://aka.ms/vscodeJupyterKernelCrash'>here</a> for more info. \n",
      "\u001b[1;31mView Jupyter <a href='command:jupyter.viewOutput'>log</a> for further details."
     ]
    }
   ],
   "source": [
    "#6\n",
    "pos2 = (34.9863395690918, -201.5182342529297, 62.7861328125, -100.02267456054688, -100, 180)\n",
    "\n",
    "\n",
    "def set_camera_addr(client: CarlaClient, addr) -> None:\n",
    "    world = client.get_world()\n",
    "    spectator = world.get_spectator()\n",
    "    x, y, z, pitch, yaw, roll = addr\n",
    "    p = carla.Transform(carla.Location(x=x,y=y,z=z ),\n",
    "            carla.Rotation( yaw = yaw, pitch = pitch, roll = roll))\n",
    "    spectator.set_transform(p) \n",
    "    \n",
    "        \n",
    "set_camera_addr(client, pos2)\n",
    "# x += l.x\n",
    "# y += l.y\n",
    "# z += l.z\n"
   ]
  },
  {
   "cell_type": "code",
   "execution_count": 99,
   "metadata": {},
   "outputs": [
    {
     "name": "stdout",
     "output_type": "stream",
     "text": [
      "(54.60447692871094, -239.78192138671875, 56.99696350097656) , (142.01036071777344, -50.44432830810547, 0.00011931933840969577)\n"
     ]
    }
   ],
   "source": [
    "world = client.get_world()\n",
    "spectator = world.get_spectator()\n",
    "transform = spectator.get_transform()\n",
    "l = transform.location\n",
    "r = transform.rotation\n",
    "print(f\"({l.x}, {l.y}, {l.z}) , ({r.yaw}, {r.pitch}, {r.roll})\")"
   ]
  },
  {
   "cell_type": "code",
   "execution_count": null,
   "metadata": {},
   "outputs": [],
   "source": [
    "transform.rotation"
   ]
  },
  {
   "cell_type": "code",
   "execution_count": 2,
   "metadata": {},
   "outputs": [
    {
     "name": "stdout",
     "output_type": "stream",
     "text": [
      "GPS: -4.303359446566901e-09, -1.5848012769283334e-08, 1.0149892568588257\n",
      "Base World Pose: -4.303359446566901e-09|-1.5848012769283334e-08|1.0149892568588257|89.99832227794235\n",
      "Location in Carla: -0.0|0.0|1.01|-0.0\n"
     ]
    },
    {
     "ename": "",
     "evalue": "",
     "output_type": "error",
     "traceback": [
      "\u001b[1;31mThe Kernel crashed while executing code in the current cell or a previous cell. \n",
      "\u001b[1;31mPlease review the code in the cell(s) to identify a possible cause of the failure. \n",
      "\u001b[1;31mClick <a href='https://aka.ms/vscodeJupyterKernelCrash'>here</a> for more info. \n",
      "\u001b[1;31mView Jupyter <a href='command:jupyter.viewOutput'>log</a> for further details."
     ]
    }
   ],
   "source": [
    "import time\n",
    "from model.map_pose import MapPose\n",
    "from data.coordinate_converter import CoordinateConverter\n",
    "from model.world_pose import WorldPose\n",
    "\n",
    "ego.set_pose(0, 0, 0, 0)\n",
    "time.sleep(1)\n",
    "ego.set_brake(1.0)\n",
    "d = ego.get_gps().read()\n",
    "\n",
    "initial_world_pose = WorldPose(lat=d.latitude, lon=d.longitude, alt=d.altitude, heading=math.degrees(ego.get_imu().read().compass))\n",
    "p = ego.get_gps().get_location()\n",
    "map_carla = MapPose(round(p[0],2), round(p[1], 2), round(p[2], 2), round(ego.get_heading(), 2))\n",
    "\n",
    "print(f\"GPS: {d.latitude}, {d.longitude}, {d.altitude}\")\n",
    "print(f\"Base World Pose: {initial_world_pose}\")\n",
    "print(f\"Location in Carla: {map_carla}\")\n"
   ]
  },
  {
   "cell_type": "code",
   "execution_count": 3,
   "metadata": {},
   "outputs": [
    {
     "ename": "NameError",
     "evalue": "name 'CoordinateConverter' is not defined",
     "output_type": "error",
     "traceback": [
      "\u001b[0;31m---------------------------------------------------------------------------\u001b[0m",
      "\u001b[0;31mNameError\u001b[0m                                 Traceback (most recent call last)",
      "Cell \u001b[0;32mIn[3], line 1\u001b[0m\n\u001b[0;32m----> 1\u001b[0m conv \u001b[38;5;241m=\u001b[39m \u001b[43mCoordinateConverter\u001b[49m(initial_world_pose)\n\u001b[1;32m      2\u001b[0m map_pose1 \u001b[38;5;241m=\u001b[39m conv\u001b[38;5;241m.\u001b[39mconvert_to_map_pose(initial_world_pose)\n\u001b[1;32m      3\u001b[0m \u001b[38;5;28mprint\u001b[39m(\u001b[38;5;124mf\u001b[39m\u001b[38;5;124m\"\u001b[39m\u001b[38;5;124mInitial map pose: \u001b[39m\u001b[38;5;132;01m{\u001b[39;00mmap_pose1\u001b[38;5;132;01m}\u001b[39;00m\u001b[38;5;124m\"\u001b[39m)\n",
      "\u001b[0;31mNameError\u001b[0m: name 'CoordinateConverter' is not defined"
     ]
    }
   ],
   "source": [
    "conv = CoordinateConverter(initial_world_pose)\n",
    "map_pose1 = conv.convert_to_map_pose(initial_world_pose)\n",
    "print(f\"Initial map pose: {map_pose1}\")\n",
    "\n",
    "\n",
    "ego.set_pose(-3, -22, 1, 90)\n",
    "time.sleep(1)\n",
    "ego.set_brake(1.0)\n",
    "d = ego.get_gps().read()\n",
    "time.sleep(1)\n",
    "wp2 = WorldPose(lat=d.latitude, lon=d.longitude, alt=d.altitude, heading=ego.get_imu().read().compass)\n",
    "p = ego.get_gps().get_location()\n",
    "map_truth = MapPose(round(p[0],2), round(p[1], 2), round(p[2], 2), round(ego.get_heading(), 2))\n",
    "print(f\"GPS: {d.latitude}, {d.longitude}, {d.altitude}\")\n",
    "print(f\"World Pose: {wp2}\")\n",
    "print(f\"Location in Carla: {map_truth}\")\n",
    "converted_map = conv.convert_to_map_pose(wp2)\n",
    "print(converted_map)\n",
    "print(f\"Converted map: {converted_map}\")"
   ]
  },
  {
   "cell_type": "code",
   "execution_count": 5,
   "metadata": {},
   "outputs": [
    {
     "name": "stdout",
     "output_type": "stream",
     "text": [
      "self.__test_conversion_to_map(conv, \"6.008207265040255e-10|-9.445475428916048e-09|1.0149040222167969|90.01170944871556\", \"-0.0010514655150473118|-6.688445864710957e-05|1.0149040222167969|0.011707369238138199\")\n",
      "self.__test_conversion_to_map(conv, \"-8.14085865386005e-09|-1.782302467980099e-08|1.0143463611602783|359.9802297900763\", \"-0.0019840500317513943|0.0009062352473847568|1.0143463611602783|-90.00768280029297\")\n",
      "self.__test_conversion_to_map(conv, \"-1.3355261785363837e-08|-2.011051673862556e-08|1.013861060142517|314.99925402977027\", \"-0.002238692482933402|0.0014867002610117197|1.013861060142517|-135.0007781982422\")\n",
      "self.__test_conversion_to_map(conv, \"3.5947697853089267e-05|-3.592238022246919e-05|1.0108108520507812|315.0036526715958\", \"-3.998861074447632|-4.001679420471191|1.0108108520507812|-134.99636840820312\")\n",
      "self.__test_conversion_to_map(conv, \"0.00017966245712841555|-3.5935588398026246e-05|1.0016272068023682|0.0\", \"-4.000331401824951|-19.99993324279785|1.0016272068023682|-89.99999237060547\")\n",
      "self.__test_conversion_to_map(conv, \"-0.00017966285120962766|-3.593243145773581e-05|1.0016334056854248|180.00000500895632\", \"-3.9999799728393555|19.999977111816406|1.0016334056854248|90.00001525878906\")\n",
      "self.__test_conversion_to_map(conv, \"-0.0005389866003611132|4.491557144842781e-05|1.0365043878555298|90.00011178750489\", \"4.999978542327881|59.99971389770508|1.0365043878555298|0.00010962043597828597\")\n",
      "self.__test_conversion_to_map(conv, \"-0.0005389890676639197|4.4915811324487864e-05|1.036553144454956|180.01979889717103\", \"5.00000524520874|59.9999885559082|1.036553144454956|90.00000762939453\")\n",
      "self.__test_conversion_to_map(conv, \"-0.000538989855826344|4.491587986050503e-05|1.0365053415298462|225.00000967629\", \"5.0000128746032715|60.00007629394531|1.0365053415298462|135.0\")\n"
     ]
    }
   ],
   "source": [
    "poses = [\n",
    "    (0, 0, 1, 0),\n",
    "    (0, 0, 1, -90),\n",
    "    (0, 0, 1, -135),\n",
    "    (-4, -4, 1, -135),\n",
    "    (-4, -20, 1, -90),\n",
    "    (-4, 20, 1, 90),\n",
    "    (5, 60, 1, 0),\n",
    "    (5, 60, 1, 90),\n",
    "    (5, 60, 1, 135),\n",
    "]\n",
    "\n",
    "for i in range (len(poses)):\n",
    "    ego.set_pose(poses[i][0], poses[i][1], poses[i][2], poses[i][3])\n",
    "    time.sleep(3)\n",
    "    d = ego.get_gps().read()\n",
    "    time.sleep(1)\n",
    "    heading = math.degrees(ego.get_imu().read().compass)\n",
    "    time.sleep(1)\n",
    "    heading = math.degrees(ego.get_imu().read().compass)\n",
    "    \n",
    "    w = WorldPose(lat=d.latitude, lon=d.longitude, alt=d.altitude, heading=heading)\n",
    "    p = ego.get_gps().get_location()\n",
    "    m = MapPose(p[0], p[1], p[2], ego.get_heading())\n",
    "    \n",
    "    print (f\"self.__test_conversion_to_map(conv, \\\"{w}\\\", \\\"{m}\\\")\")"
   ]
  },
  {
   "cell_type": "code",
   "execution_count": null,
   "metadata": {},
   "outputs": [],
   "source": [
    "for i in range (len(poses)):\n",
    "    ego.set_pose(poses[i][0], poses[i][1], poses[i][2], poses[i][3])\n",
    "    time.sleep(3)\n",
    "    d = ego.get_gps().read()\n",
    "    time.sleep(1)\n",
    "    heading = math.degrees(ego.get_imu().read().compass)\n",
    "    time.sleep(1)\n",
    "    heading = math.degrees(ego.get_imu().read().compass)\n",
    "    \n",
    "    w = WorldPose(lat=d.latitude, lon=d.longitude, alt=d.altitude, heading=heading)\n",
    "    p = ego.get_gps().get_location()\n",
    "    m = MapPose(p[0], p[1], p[2], ego.get_heading())\n",
    "    \n",
    "    print (f\"self.__test_conversion_to_map(conv, \\\"{w}\\\", \\\"{m}\\\")\")"
   ]
  },
  {
   "cell_type": "code",
   "execution_count": null,
   "metadata": {},
   "outputs": [],
   "source": [
    "ego.set_pose(0, 0, 0, 225)\n"
   ]
  },
  {
   "cell_type": "code",
   "execution_count": null,
   "metadata": {},
   "outputs": [],
   "source": [
    "print(ego.get_heading())\n",
    "print(math.degrees(ego.get_imu().read().compass))"
   ]
  },
  {
   "cell_type": "code",
   "execution_count": null,
   "metadata": {},
   "outputs": [],
   "source": [
    "def hc(h: float) -> float:\n",
    "    return (h + 90 + 360) % 360\n",
    "\n",
    "def h(hc: float) -> float:\n",
    "    p = (hc - 90 - 360)  % 360\n",
    "    if p > 180:\n",
    "        return p - 360\n",
    "    return p\n",
    "    "
   ]
  },
  {
   "cell_type": "code",
   "execution_count": null,
   "metadata": {},
   "outputs": [],
   "source": [
    "hc(45)"
   ]
  },
  {
   "cell_type": "code",
   "execution_count": null,
   "metadata": {},
   "outputs": [],
   "source": [
    "def h(hc: float) -> float:\n",
    "    p = (hc - 90 - 360)  % 360\n",
    "    if p > 180:\n",
    "        return p - 360\n",
    "    return p\n",
    "    \n",
    "        \n",
    "        "
   ]
  },
  {
   "cell_type": "code",
   "execution_count": null,
   "metadata": {},
   "outputs": [],
   "source": [
    "h(0)"
   ]
  },
  {
   "cell_type": "code",
   "execution_count": null,
   "metadata": {},
   "outputs": [],
   "source": [
    "225 - 180"
   ]
  },
  {
   "cell_type": "code",
   "execution_count": null,
   "metadata": {},
   "outputs": [],
   "source": [
    "(180 - 225) % 180"
   ]
  },
  {
   "cell_type": "code",
   "execution_count": null,
   "metadata": {},
   "outputs": [],
   "source": []
  }
 ],
 "metadata": {
  "kernelspec": {
   "display_name": "venv",
   "language": "python",
   "name": "python3"
  },
  "language_info": {
   "codemirror_mode": {
    "name": "ipython",
    "version": 3
   },
   "file_extension": ".py",
   "mimetype": "text/x-python",
   "name": "python",
   "nbconvert_exporter": "python",
   "pygments_lexer": "ipython3",
   "version": "3.10.12"
  }
 },
 "nbformat": 4,
 "nbformat_minor": 2
}
