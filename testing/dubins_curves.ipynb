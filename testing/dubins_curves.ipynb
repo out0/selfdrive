{
 "cells": [
  {
   "cell_type": "code",
   "execution_count": 4,
   "metadata": {},
   "outputs": [],
   "source": [
    "import sys\n",
    "sys.path.append(\"../\")\n",
    "from planner.local_planner.executors.dubins_curves import Dubins\n",
    "import numpy as np, math\n",
    "from matplotlib import pyplot as plt\n",
    "from model.waypoint import Waypoint"
   ]
  },
  {
   "cell_type": "code",
   "execution_count": 5,
   "metadata": {},
   "outputs": [],
   "source": [
    "class FrameBoard:\n",
    "    _frame: np.ndarray\n",
    "    \n",
    "    def __init__(self, width: int, height: int) -> None:\n",
    "        self._frame = np.zeros((width, height, 3), dtype=np.int32)\n",
    "    \n",
    "    def add_point(self, x: int, z: int, color = [255, 0, 0]) -> None:\n",
    "        for i in range(-1, 2):\n",
    "            self._frame[z+i, x, :] = color\n",
    "            self._frame[z, x+i, :] = color\n",
    "            \n",
    "    def add_start(self, point: Waypoint, color = [0, 255, 0]) -> None:\n",
    "        self.add_point(point.x, point.z, color=color)\n",
    "    \n",
    "    def add_end(self, point: Waypoint, color = [255, 255, 0]) -> None:\n",
    "        self.add_point(point.x, point.z, color=color)\n",
    "    \n",
    "    def add_path(self, path: list[Waypoint], color = [255, 255, 255]) -> None:\n",
    "        for p in path:\n",
    "            self._frame[p.z, p.x] = color\n",
    "            \n",
    "    def show(self) -> None:\n",
    "        plt.imshow(self._frame, interpolation='nearest')\n",
    "        \n",
    "        \n",
    "    def build_dubins_path(self, start: Waypoint, end: Waypoint, radius, color = [255, 255, 255], points: int = 1):\n",
    "        res = Dubins(radius=radius, point_separation=points).build_path(\n",
    "            start=start, \n",
    "            goal=end, \n",
    "            max_width=self._frame.shape[1],\n",
    "            max_height=self._frame.shape[0]\n",
    "        )\n",
    "        self.add_path(res)\n",
    "            \n"
   ]
  },
  {
   "cell_type": "markdown",
   "metadata": {},
   "source": [
    "Investigate Radius"
   ]
  },
  {
   "cell_type": "code",
   "execution_count": 12,
   "metadata": {},
   "outputs": [
    {
     "data": {
      "image/png": "[encoded data removed]",
      "text/plain": [
       "<Figure size 640x480 with 1 Axes>"
      ]
     },
     "metadata": {},
     "output_type": "display_data"
    }
   ],
   "source": [
    "start = Waypoint(50, 200, 0)\n",
    "end = Waypoint(150, 50, -10)\n",
    "frame = FrameBoard(300, 300)\n",
    "frame.build_dubins_path(start, end, radius=40, points=1)\n",
    "frame.show()\n",
    "frame.add_start(start)\n",
    "frame.add_end(end)\n",
    "frame.show()"
   ]
  }
 ],
 "metadata": {
  "kernelspec": {
   "display_name": "Python 3",
   "language": "python",
   "name": "python3"
  },
  "language_info": {
   "codemirror_mode": {
    "name": "ipython",
    "version": 3
   },
   "file_extension": ".py",
   "mimetype": "text/x-python",
   "name": "python",
   "nbconvert_exporter": "python",
   "pygments_lexer": "ipython3",
   "version": "3.10.12"
  }
 },
 "nbformat": 4,
 "nbformat_minor": 2
}
